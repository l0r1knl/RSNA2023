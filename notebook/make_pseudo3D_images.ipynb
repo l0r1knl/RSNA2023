{
 "cells": [
  {
   "cell_type": "code",
   "execution_count": 1,
   "metadata": {},
   "outputs": [],
   "source": [
    "import sys\n",
    "from pathlib import Path\n",
    "\n",
    "import pandas as pd\n",
    "from tqdm import tqdm\n",
    "\n",
    "from torch.utils.data import DataLoader\n",
    "import torch.backends.cudnn as cudnn\n",
    "\n",
    "import torchvision\n",
    "from torchvision.io import write_png\n",
    "\n",
    "cudnn.benchmark = True\n",
    "torchvision.disable_beta_transforms_warning()\n",
    "sys.path.append(\"../src/\")\n"
   ]
  },
  {
   "cell_type": "code",
   "execution_count": 2,
   "metadata": {},
   "outputs": [],
   "source": [
    "# my modules for RSNA2023\n",
    "from dataset_handler import AbdominalTraumaDataset\n"
   ]
  },
  {
   "cell_type": "code",
   "execution_count": 3,
   "metadata": {},
   "outputs": [],
   "source": [
    "train_image_root_dir = Path(\n",
    "    r\"D:\\RSNA2023\\data\\train_images\"\n",
    ")\n",
    "\n",
    "train_patient_info = pd.read_csv(\n",
    "    r\"D:\\RSNA2023\\data\\train.csv\"\n",
    ")\n",
    "\n",
    "train_patient_series = pd.read_csv(\n",
    "    r\"D:\\RSNA2023\\data\\train_series_meta.csv\"\n",
    ")\n",
    "\n",
    "stride = 2"
   ]
  },
  {
   "cell_type": "code",
   "execution_count": 4,
   "metadata": {},
   "outputs": [],
   "source": [
    "# Make dataset for RSNA2023 AbdominalTrauma.\n",
    "dataset = AbdominalTraumaDataset(\n",
    "    train_patient_info,\n",
    "    train_patient_series,\n",
    "    train_image_root_dir,\n",
    "    img_extension=\".png\",\n",
    "    stride=stride\n",
    ")\n",
    "\n",
    "dataloader = DataLoader(dataset, 1, False)\n"
   ]
  },
  {
   "cell_type": "code",
   "execution_count": 5,
   "metadata": {},
   "outputs": [
    {
     "name": "stderr",
     "output_type": "stream",
     "text": [
      "4711it [13:11,  5.95it/s]\n"
     ]
    }
   ],
   "source": [
    "for i , (inputs, labels) in tqdm(enumerate(dataloader)):\n",
    "    # dir_path/patient_id/series_id + \"-\" +stride+ \".png\"\n",
    "    write_path =  (\n",
    "        train_image_root_dir / \n",
    "        str(train_patient_series.iloc[i, 0]) / \n",
    "        (f\"{str(train_patient_series.iloc[i, 1])}-{stride:02}.png\")\n",
    "    )\n",
    "    write_png(inputs.to(\"cpu\")[0], str(write_path))\n"
   ]
  }
 ],
 "metadata": {
  "kernelspec": {
   "display_name": "data-analysis310",
   "language": "python",
   "name": "python3"
  },
  "language_info": {
   "codemirror_mode": {
    "name": "ipython",
    "version": 3
   },
   "file_extension": ".py",
   "mimetype": "text/x-python",
   "name": "python",
   "nbconvert_exporter": "python",
   "pygments_lexer": "ipython3",
   "version": "3.10.11"
  },
  "orig_nbformat": 4
 },
 "nbformat": 4,
 "nbformat_minor": 2
}
