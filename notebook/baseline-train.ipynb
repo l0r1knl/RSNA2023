{
 "cells": [
  {
   "cell_type": "markdown",
   "metadata": {},
   "source": [
    "# "
   ]
  },
  {
   "cell_type": "code",
   "execution_count": 1,
   "metadata": {},
   "outputs": [
    {
     "name": "stderr",
     "output_type": "stream",
     "text": [
      "c:\\Users\\G4WAND\\.venv\\data-analysis310\\lib\\site-packages\\torchaudio\\backend\\utils.py:74: UserWarning: No audio backend is available.\n",
      "  warnings.warn(\"No audio backend is available.\")\n"
     ]
    }
   ],
   "source": [
    "import sys\n",
    "import datetime\n",
    "import random\n",
    "from pathlib import Path\n",
    "\n",
    "import numpy as np\n",
    "import pandas as pd\n",
    "import matplotlib.pyplot as plt\n",
    "from iterstrat.ml_stratifiers import (\n",
    "    MultilabelStratifiedKFold\n",
    ")\n",
    "from sklearn.metrics import log_loss\n",
    "from sklearn.utils.class_weight import compute_class_weight\n",
    "\n",
    "# import PyTorch Modules\n",
    "import torch\n",
    "import torch.nn as nn\n",
    "import torch.optim as optim\n",
    "import torch.backends.cudnn as cudnn\n",
    "from torch.optim import lr_scheduler\n",
    "from torch.utils.data import (\n",
    "    Subset\n",
    ")\n",
    "\n",
    "# import PyTorch Modules for ComputerVision.\n",
    "import torchvision\n",
    "torchvision.disable_beta_transforms_warning()\n",
    "import torchvision.transforms.v2 as transforms\n",
    "import torchvision.transforms.v2.functional as F\n",
    "from torchvision.io import read_image\n",
    "from torchvision.models import resnet18, efficientnet_v2_s\n",
    "from torcheval.metrics import MulticlassAUROC\n",
    "\n",
    "sys.path.append(\"../src/\")\n",
    "plt.rcParams[\"savefig.bbox\"] = 'tight'\n",
    "plt.ion()   # interactive mode\n",
    "cudnn.benchmark = True\n"
   ]
  },
  {
   "cell_type": "code",
   "execution_count": 2,
   "metadata": {},
   "outputs": [],
   "source": [
    "# my modules for RSNA2023.\n",
    "from dataset_handler import AbdominalTraumaDataset, make_datalodaers\n",
    "from model import MultiAbdominalTraumaClassifier\n",
    "from metric import score, add_sample_weights, make_submission_file\n"
   ]
  },
  {
   "cell_type": "code",
   "execution_count": 3,
   "metadata": {},
   "outputs": [],
   "source": [
    "# Train Parameters #\n",
    "start_time = datetime.datetime.today().strftime(\"%Y%m%d%H%M\")\n",
    "save_dir = Path(rf\"D:\\RSNA2023\\data\\out\\models\\baseline\\{start_time}\")\n",
    "save_dir.mkdir(parents=True, exist_ok=True)\n",
    "\n",
    "n_split = 4\n",
    "num_epoch = 15\n",
    "learning_rate = 5e-5\n",
    "step_size = 10\n",
    "gamma = 0.1\n",
    "batch_size = 32\n",
    "random_state = 0\n",
    "stride = 4\n",
    "\n",
    "criterions_weights = {\n",
    "    \"bowel_injury\": 1,\n",
    "    \"extravasation_injury\": 3,\n",
    "    \"kidney_injury\": 3,\n",
    "    \"liver_injury\": 3,\n",
    "    \"spleen_injury\": 3,\n",
    "    \"any_injury\": 0.5,\n",
    "    \"incomplete_organ\": 0.5\n",
    "}\n",
    "\n",
    "optimizer = \"AdamW\"\n",
    "backbone = efficientnet_v2_s\n",
    "b_weights = \"IMAGENET1K_V1\"\n",
    "\n",
    "train_transform = nn.Sequential(\n",
    "    transforms.Resize((224, 224), antialias=True),\n",
    "    transforms.RandomAdjustSharpness(1.80, p=0.5),\n",
    "    transforms.RandomErasing(p=0.5, scale=(0.001, 0.005), ratio=(1, 1)),\n",
    "    transforms.ConvertDtype(),\n",
    "    transforms.Normalize([0.0, 0.0, 0.0], [1.0, 1.0, 1.0])\n",
    ")\n",
    "\n",
    "valid_transform = nn.Sequential(\n",
    "    transforms.Resize((224, 224), antialias=True),\n",
    "    transforms.ConvertDtype(),\n",
    "    transforms.Normalize([0.0, 0.0, 0.0], [1.0, 1.0, 1.0])\n",
    ")\n",
    "\n",
    "device = torch.device(\"cuda:0\" if torch.cuda.is_available() else \"cpu\")\n",
    "# ---------------- #\n"
   ]
  },
  {
   "cell_type": "code",
   "execution_count": 4,
   "metadata": {},
   "outputs": [],
   "source": [
    "# utilities.\n",
    "def torch_fix_seed(seed:int=0):\n",
    "    random.seed(seed)\n",
    "    np.random.seed(seed)\n",
    "    torch.manual_seed(seed)\n",
    "    torch.cuda.manual_seed(seed)\n",
    "    torch.use_deterministic_algorithms = True\n",
    "\n",
    "\n",
    "torch_fix_seed(random_state)\n"
   ]
  },
  {
   "cell_type": "code",
   "execution_count": 5,
   "metadata": {},
   "outputs": [],
   "source": [
    "train_image_root_dir = Path(\n",
    "    r\"D:\\RSNA2023\\data\\train_images\"\n",
    ")\n",
    "\n",
    "patient_info = pd.read_csv(\n",
    "    r\"D:\\RSNA2023\\data\\train.csv\"\n",
    ")\n",
    "patient_series = pd.read_csv(\n",
    "    r\"D:\\RSNA2023\\data\\train_series_meta.csv\"\n",
    ")\n"
   ]
  },
  {
   "cell_type": "code",
   "execution_count": 6,
   "metadata": {},
   "outputs": [
    {
     "name": "stdout",
     "output_type": "stream",
     "text": [
      "bowel_injury weights: 0.5112871527671814, 22.649038314819336\n",
      "extravasation_injury weights: 0.534005880355835, 7.851666450500488\n",
      "kidney_injury weights: 0.3547974228858948, 8.922348022460938, 14.40672779083252\n",
      "liver_injury weights: 0.3707113564014435, 4.089409828186035, 17.256410598754883\n",
      "spleen_injury weights: 0.3769403100013733, 4.969409465789795, 6.857350826263428\n",
      "any_injury weights: 0.6881390810012817, 1.82880437374115\n",
      "incomplete_organ weights: 0.5355843305587769, 7.525558948516846\n"
     ]
    }
   ],
   "source": [
    "# calc class weights..\n",
    "data = patient_series.merge(patient_info)\n",
    "data[\"kidney_injury\"] = data[\"kidney_low\"] + (data[\"kidney_high\"] * 2)\n",
    "data[\"liver_injury\"] = data[\"liver_low\"] + (data[\"liver_high\"] * 2)\n",
    "data[\"spleen_injury\"] = data[\"spleen_low\"] + (data[\"spleen_high\"] * 2)\n",
    "\n",
    "target_labels = [\n",
    "    \"bowel_injury\",\n",
    "    \"extravasation_injury\",\n",
    "    \"kidney_injury\",\n",
    "    \"liver_injury\",\n",
    "    \"spleen_injury\",\n",
    "    \"any_injury\",\n",
    "    \"incomplete_organ\",\n",
    "]\n",
    "\n",
    "class_weights = {}\n",
    "for label in target_labels:\n",
    "    class_weights[label] = torch.from_numpy(\n",
    "        compute_class_weight(\n",
    "            class_weight=\"balanced\",\n",
    "            classes=np.sort(data.loc[:, label].unique()),\n",
    "            y=data.loc[:, label].values)\n",
    "        .astype(np.float32)\n",
    "    )\n",
    "    print(\n",
    "        f\"{label} weights: \" +\n",
    "        \", \".join(str(_.item()) for _ in class_weights[label])\n",
    "    )\n"
   ]
  },
  {
   "cell_type": "code",
   "execution_count": 7,
   "metadata": {},
   "outputs": [],
   "source": [
    "# Make dataset for RSNA2023 AbdominalTrauma.\n",
    "dataset = AbdominalTraumaDataset(\n",
    "    patient_info,\n",
    "    patient_series,\n",
    "    train_image_root_dir,\n",
    "    img_extension=\".png\",\n",
    "    has_pseudo3D_img=True,\n",
    "    stride=stride\n",
    ")\n",
    "\n",
    "# dataset split by multilabel stratified split.\n",
    "data_spliter = MultilabelStratifiedKFold(\n",
    "    n_splits=n_split,\n",
    "    shuffle=True,\n",
    "    random_state=random_state,\n",
    ")\n"
   ]
  },
  {
   "cell_type": "code",
   "execution_count": 8,
   "metadata": {},
   "outputs": [],
   "source": [
    "def calc_multiclasses_roc(y_pred, y_true, classes, show_score):\n",
    "    j, scores = 0, []\n",
    "\n",
    "    for i, (cls, num) in enumerate(classes.items()):\n",
    "        metric = MulticlassAUROC(num_classes=num)\n",
    "        metric.update(y_pred[:, j:num+j], y_true[:, i])\n",
    "        scores.append(metric.compute().item())\n",
    "        j += num\n",
    "        if show_score:\n",
    "            print(f\"{cls}' ROC: {scores[-1]}\")\n",
    "\n",
    "    return scores\n"
   ]
  },
  {
   "cell_type": "markdown",
   "metadata": {},
   "source": [
    "# 📚 Train..."
   ]
  },
  {
   "cell_type": "code",
   "execution_count": 9,
   "metadata": {},
   "outputs": [
    {
     "name": "stderr",
     "output_type": "stream",
     "text": [
      "[Epoch: 1/15, Phase: train]: 100%|██████████| 111/111 [00:41<00:00,  2.66it/s]\n",
      "[Epoch: 1/15, Phase: valid]: 100%|██████████| 37/37 [00:06<00:00,  5.62it/s]\n",
      "[Epoch: 2/15, Phase: train]: 100%|██████████| 111/111 [00:36<00:00,  3.06it/s]\n",
      "[Epoch: 2/15, Phase: valid]: 100%|██████████| 37/37 [00:06<00:00,  6.07it/s]\n",
      "[Epoch: 3/15, Phase: train]: 100%|██████████| 111/111 [00:35<00:00,  3.08it/s]\n",
      "[Epoch: 3/15, Phase: valid]: 100%|██████████| 37/37 [00:06<00:00,  6.05it/s]\n",
      "[Epoch: 4/15, Phase: train]: 100%|██████████| 111/111 [00:35<00:00,  3.08it/s]\n",
      "[Epoch: 4/15, Phase: valid]: 100%|██████████| 37/37 [00:06<00:00,  5.98it/s]\n",
      "[Epoch: 5/15, Phase: train]: 100%|██████████| 111/111 [00:36<00:00,  3.05it/s]\n",
      "[Epoch: 5/15, Phase: valid]: 100%|██████████| 37/37 [00:06<00:00,  6.01it/s]\n",
      "[Epoch: 6/15, Phase: train]: 100%|██████████| 111/111 [00:36<00:00,  3.08it/s]\n",
      "[Epoch: 6/15, Phase: valid]: 100%|██████████| 37/37 [00:06<00:00,  6.12it/s]\n",
      "[Epoch: 7/15, Phase: train]: 100%|██████████| 111/111 [00:35<00:00,  3.11it/s]\n",
      "[Epoch: 7/15, Phase: valid]: 100%|██████████| 37/37 [00:06<00:00,  5.99it/s]\n",
      "[Epoch: 8/15, Phase: train]: 100%|██████████| 111/111 [00:36<00:00,  3.06it/s]\n",
      "[Epoch: 8/15, Phase: valid]: 100%|██████████| 37/37 [00:05<00:00,  6.19it/s]\n",
      "[Epoch: 9/15, Phase: train]: 100%|██████████| 111/111 [00:36<00:00,  3.07it/s]\n",
      "[Epoch: 9/15, Phase: valid]: 100%|██████████| 37/37 [00:06<00:00,  6.12it/s]\n",
      "[Epoch: 10/15, Phase: train]: 100%|██████████| 111/111 [00:36<00:00,  3.04it/s]\n",
      "[Epoch: 10/15, Phase: valid]: 100%|██████████| 37/37 [00:06<00:00,  6.02it/s]\n",
      "[Epoch: 11/15, Phase: train]: 100%|██████████| 111/111 [00:36<00:00,  3.08it/s]\n",
      "[Epoch: 11/15, Phase: valid]: 100%|██████████| 37/37 [00:06<00:00,  6.07it/s]\n",
      "[Epoch: 12/15, Phase: train]: 100%|██████████| 111/111 [00:35<00:00,  3.08it/s]\n",
      "[Epoch: 12/15, Phase: valid]: 100%|██████████| 37/37 [00:06<00:00,  6.06it/s]\n",
      "[Epoch: 13/15, Phase: train]: 100%|██████████| 111/111 [00:36<00:00,  3.06it/s]\n",
      "[Epoch: 13/15, Phase: valid]: 100%|██████████| 37/37 [00:06<00:00,  6.15it/s]\n",
      "[Epoch: 14/15, Phase: train]: 100%|██████████| 111/111 [00:36<00:00,  3.07it/s]\n",
      "[Epoch: 14/15, Phase: valid]: 100%|██████████| 37/37 [00:06<00:00,  6.06it/s]\n",
      "[Epoch: 15/15, Phase: train]: 100%|██████████| 111/111 [00:35<00:00,  3.09it/s]\n",
      "[Epoch: 15/15, Phase: valid]: 100%|██████████| 37/37 [00:06<00:00,  6.10it/s]\n"
     ]
    },
    {
     "data": {
      "image/png": "[encoded data removed]",
      "text/plain": [
       "<Figure size 800x300 with 1 Axes>"
      ]
     },
     "metadata": {},
     "output_type": "display_data"
    },
    {
     "name": "stdout",
     "output_type": "stream",
     "text": [
      "fold#00's best epoch: E006\n"
     ]
    },
    {
     "name": "stderr",
     "output_type": "stream",
     "text": [
      "100%|██████████| 1177/1177 [00:23<00:00, 49.44it/s]\n",
      "C:\\Users\\G4WAND\\AppData\\Local\\Temp\\ipykernel_12536\\2310926786.py:109: UserWarning: Creating a tensor from a list of numpy.ndarrays is extremely slow. Please consider converting the list to a single numpy.ndarray with numpy.array() before converting to a tensor. (Triggered internally at ..\\torch\\csrc\\utils\\tensor_new.cpp:248.)\n",
      "  torch.tensor(pred_test_series),\n"
     ]
    },
    {
     "name": "stdout",
     "output_type": "stream",
     "text": [
      "bowel_injury' ROC: 0.8652008175849915\n",
      "extravasation_injury' ROC: 0.7254143953323364\n",
      "kidney_injury' ROC: 0.737288773059845\n",
      "liver_injury' ROC: 0.7666881680488586\n",
      "spleen_injury' ROC: 0.721306324005127\n"
     ]
    },
    {
     "name": "stderr",
     "output_type": "stream",
     "text": [
      "[Epoch: 1/15, Phase: train]: 100%|██████████| 111/111 [00:37<00:00,  2.99it/s]\n",
      "[Epoch: 1/15, Phase: valid]: 100%|██████████| 37/37 [00:06<00:00,  5.75it/s]\n",
      "[Epoch: 2/15, Phase: train]: 100%|██████████| 111/111 [00:36<00:00,  3.06it/s]\n",
      "[Epoch: 2/15, Phase: valid]: 100%|██████████| 37/37 [00:06<00:00,  6.10it/s]\n",
      "[Epoch: 3/15, Phase: train]: 100%|██████████| 111/111 [00:36<00:00,  3.07it/s]\n",
      "[Epoch: 3/15, Phase: valid]: 100%|██████████| 37/37 [00:06<00:00,  6.12it/s]\n",
      "[Epoch: 4/15, Phase: train]: 100%|██████████| 111/111 [00:35<00:00,  3.08it/s]\n",
      "[Epoch: 4/15, Phase: valid]: 100%|██████████| 37/37 [00:06<00:00,  6.11it/s]\n",
      "[Epoch: 5/15, Phase: train]: 100%|██████████| 111/111 [00:36<00:00,  3.07it/s]\n",
      "[Epoch: 5/15, Phase: valid]: 100%|██████████| 37/37 [00:06<00:00,  5.94it/s]\n",
      "[Epoch: 6/15, Phase: train]: 100%|██████████| 111/111 [00:36<00:00,  3.06it/s]\n",
      "[Epoch: 6/15, Phase: valid]: 100%|██████████| 37/37 [00:06<00:00,  6.13it/s]\n",
      "[Epoch: 7/15, Phase: train]: 100%|██████████| 111/111 [00:36<00:00,  3.05it/s]\n",
      "[Epoch: 7/15, Phase: valid]: 100%|██████████| 37/37 [00:06<00:00,  6.16it/s]\n",
      "[Epoch: 8/15, Phase: train]: 100%|██████████| 111/111 [00:36<00:00,  3.08it/s]\n",
      "[Epoch: 8/15, Phase: valid]: 100%|██████████| 37/37 [00:06<00:00,  6.13it/s]\n",
      "[Epoch: 9/15, Phase: train]: 100%|██████████| 111/111 [00:36<00:00,  3.08it/s]\n",
      "[Epoch: 9/15, Phase: valid]: 100%|██████████| 37/37 [00:06<00:00,  6.06it/s]\n",
      "[Epoch: 10/15, Phase: train]: 100%|██████████| 111/111 [00:36<00:00,  3.08it/s]\n",
      "[Epoch: 10/15, Phase: valid]: 100%|██████████| 37/37 [00:06<00:00,  6.12it/s]\n",
      "[Epoch: 11/15, Phase: train]: 100%|██████████| 111/111 [00:36<00:00,  3.06it/s]\n",
      "[Epoch: 11/15, Phase: valid]: 100%|██████████| 37/37 [00:06<00:00,  6.07it/s]\n",
      "[Epoch: 12/15, Phase: train]: 100%|██████████| 111/111 [00:36<00:00,  3.08it/s]\n",
      "[Epoch: 12/15, Phase: valid]: 100%|██████████| 37/37 [00:06<00:00,  6.15it/s]\n",
      "[Epoch: 13/15, Phase: train]: 100%|██████████| 111/111 [00:36<00:00,  3.07it/s]\n",
      "[Epoch: 13/15, Phase: valid]: 100%|██████████| 37/37 [00:06<00:00,  5.66it/s]\n",
      "[Epoch: 14/15, Phase: train]: 100%|██████████| 111/111 [00:40<00:00,  2.76it/s]\n",
      "[Epoch: 14/15, Phase: valid]: 100%|██████████| 37/37 [00:07<00:00,  5.13it/s]\n",
      "[Epoch: 15/15, Phase: train]: 100%|██████████| 111/111 [00:40<00:00,  2.76it/s]\n",
      "[Epoch: 15/15, Phase: valid]: 100%|██████████| 37/37 [00:07<00:00,  4.96it/s]\n"
     ]
    },
    {
     "data": {
      "image/png": "[encoded data removed]",
      "text/plain": [
       "<Figure size 800x300 with 1 Axes>"
      ]
     },
     "metadata": {},
     "output_type": "display_data"
    },
    {
     "name": "stdout",
     "output_type": "stream",
     "text": [
      "fold#01's best epoch: E006\n"
     ]
    },
    {
     "name": "stderr",
     "output_type": "stream",
     "text": [
      "100%|██████████| 1178/1178 [00:29<00:00, 40.51it/s]\n"
     ]
    },
    {
     "name": "stdout",
     "output_type": "stream",
     "text": [
      "bowel_injury' ROC: 0.7699319124221802\n",
      "extravasation_injury' ROC: 0.7710849046707153\n",
      "kidney_injury' ROC: 0.720015287399292\n",
      "liver_injury' ROC: 0.7068395018577576\n",
      "spleen_injury' ROC: 0.7341134548187256\n"
     ]
    },
    {
     "name": "stderr",
     "output_type": "stream",
     "text": [
      "[Epoch: 1/15, Phase: train]: 100%|██████████| 111/111 [00:37<00:00,  3.00it/s]\n",
      "[Epoch: 1/15, Phase: valid]: 100%|██████████| 37/37 [00:06<00:00,  5.41it/s]\n",
      "[Epoch: 2/15, Phase: train]: 100%|██████████| 111/111 [00:39<00:00,  2.80it/s]\n",
      "[Epoch: 2/15, Phase: valid]: 100%|██████████| 37/37 [00:07<00:00,  5.23it/s]\n",
      "[Epoch: 3/15, Phase: train]: 100%|██████████| 111/111 [00:42<00:00,  2.64it/s]\n",
      "[Epoch: 3/15, Phase: valid]: 100%|██████████| 37/37 [00:07<00:00,  4.99it/s]\n",
      "[Epoch: 4/15, Phase: train]: 100%|██████████| 111/111 [00:40<00:00,  2.73it/s]\n",
      "[Epoch: 4/15, Phase: valid]: 100%|██████████| 37/37 [00:07<00:00,  5.18it/s]\n",
      "[Epoch: 5/15, Phase: train]: 100%|██████████| 111/111 [00:41<00:00,  2.69it/s]\n",
      "[Epoch: 5/15, Phase: valid]: 100%|██████████| 37/37 [00:07<00:00,  4.90it/s]\n",
      "[Epoch: 6/15, Phase: train]: 100%|██████████| 111/111 [00:39<00:00,  2.79it/s]\n",
      "[Epoch: 6/15, Phase: valid]: 100%|██████████| 37/37 [00:07<00:00,  4.79it/s]\n",
      "[Epoch: 7/15, Phase: train]: 100%|██████████| 111/111 [00:40<00:00,  2.72it/s]\n",
      "[Epoch: 7/15, Phase: valid]: 100%|██████████| 37/37 [00:07<00:00,  5.05it/s]\n",
      "[Epoch: 8/15, Phase: train]: 100%|██████████| 111/111 [00:39<00:00,  2.84it/s]\n",
      "[Epoch: 8/15, Phase: valid]: 100%|██████████| 37/37 [00:07<00:00,  5.28it/s]\n",
      "[Epoch: 9/15, Phase: train]: 100%|██████████| 111/111 [00:39<00:00,  2.84it/s]\n",
      "[Epoch: 9/15, Phase: valid]: 100%|██████████| 37/37 [00:07<00:00,  5.20it/s]\n",
      "[Epoch: 10/15, Phase: train]: 100%|██████████| 111/111 [00:39<00:00,  2.79it/s]\n",
      "[Epoch: 10/15, Phase: valid]: 100%|██████████| 37/37 [00:06<00:00,  5.29it/s]\n",
      "[Epoch: 11/15, Phase: train]: 100%|██████████| 111/111 [00:36<00:00,  3.02it/s]\n",
      "[Epoch: 11/15, Phase: valid]: 100%|██████████| 37/37 [00:06<00:00,  5.89it/s]\n",
      "[Epoch: 12/15, Phase: train]: 100%|██████████| 111/111 [00:36<00:00,  3.05it/s]\n",
      "[Epoch: 12/15, Phase: valid]: 100%|██████████| 37/37 [00:06<00:00,  6.07it/s]\n",
      "[Epoch: 13/15, Phase: train]: 100%|██████████| 111/111 [00:35<00:00,  3.10it/s]\n",
      "[Epoch: 13/15, Phase: valid]: 100%|██████████| 37/37 [00:06<00:00,  5.89it/s]\n",
      "[Epoch: 14/15, Phase: train]: 100%|██████████| 111/111 [00:36<00:00,  3.00it/s]\n",
      "[Epoch: 14/15, Phase: valid]: 100%|██████████| 37/37 [00:06<00:00,  5.89it/s]\n",
      "[Epoch: 15/15, Phase: train]: 100%|██████████| 111/111 [00:37<00:00,  2.98it/s]\n",
      "[Epoch: 15/15, Phase: valid]: 100%|██████████| 37/37 [00:06<00:00,  5.97it/s]\n"
     ]
    },
    {
     "data": {
      "image/png": "[encoded data removed]",
      "text/plain": [
       "<Figure size 800x300 with 1 Axes>"
      ]
     },
     "metadata": {},
     "output_type": "display_data"
    },
    {
     "name": "stdout",
     "output_type": "stream",
     "text": [
      "fold#02's best epoch: E006\n"
     ]
    },
    {
     "name": "stderr",
     "output_type": "stream",
     "text": [
      "100%|██████████| 1178/1178 [00:34<00:00, 34.05it/s]\n"
     ]
    },
    {
     "name": "stdout",
     "output_type": "stream",
     "text": [
      "bowel_injury' ROC: 0.8023838400840759\n",
      "extravasation_injury' ROC: 0.6444605588912964\n",
      "kidney_injury' ROC: 0.7342098355293274\n",
      "liver_injury' ROC: 0.7664248943328857\n",
      "spleen_injury' ROC: 0.727748692035675\n"
     ]
    },
    {
     "name": "stderr",
     "output_type": "stream",
     "text": [
      "[Epoch: 1/15, Phase: train]: 100%|██████████| 111/111 [00:39<00:00,  2.83it/s]\n",
      "[Epoch: 1/15, Phase: valid]: 100%|██████████| 37/37 [00:07<00:00,  5.08it/s]\n",
      "[Epoch: 2/15, Phase: train]: 100%|██████████| 111/111 [00:38<00:00,  2.92it/s]\n",
      "[Epoch: 2/15, Phase: valid]: 100%|██████████| 37/37 [00:06<00:00,  5.39it/s]\n",
      "[Epoch: 3/15, Phase: train]: 100%|██████████| 111/111 [00:38<00:00,  2.91it/s]\n",
      "[Epoch: 3/15, Phase: valid]: 100%|██████████| 37/37 [00:06<00:00,  5.50it/s]\n",
      "[Epoch: 4/15, Phase: train]: 100%|██████████| 111/111 [00:38<00:00,  2.87it/s]\n",
      "[Epoch: 4/15, Phase: valid]: 100%|██████████| 37/37 [00:07<00:00,  4.93it/s]\n",
      "[Epoch: 5/15, Phase: train]: 100%|██████████| 111/111 [00:38<00:00,  2.87it/s]\n",
      "[Epoch: 5/15, Phase: valid]: 100%|██████████| 37/37 [00:06<00:00,  5.64it/s]\n",
      "[Epoch: 6/15, Phase: train]: 100%|██████████| 111/111 [00:38<00:00,  2.88it/s]\n",
      "[Epoch: 6/15, Phase: valid]: 100%|██████████| 37/37 [00:07<00:00,  4.96it/s]\n",
      "[Epoch: 7/15, Phase: train]: 100%|██████████| 111/111 [00:40<00:00,  2.75it/s]\n",
      "[Epoch: 7/15, Phase: valid]: 100%|██████████| 37/37 [00:07<00:00,  5.13it/s]\n",
      "[Epoch: 8/15, Phase: train]: 100%|██████████| 111/111 [00:41<00:00,  2.70it/s]\n",
      "[Epoch: 8/15, Phase: valid]: 100%|██████████| 37/37 [00:07<00:00,  4.99it/s]\n",
      "[Epoch: 9/15, Phase: train]: 100%|██████████| 111/111 [00:40<00:00,  2.77it/s]\n",
      "[Epoch: 9/15, Phase: valid]: 100%|██████████| 37/37 [00:07<00:00,  5.02it/s]\n",
      "[Epoch: 10/15, Phase: train]: 100%|██████████| 111/111 [00:39<00:00,  2.79it/s]\n",
      "[Epoch: 10/15, Phase: valid]: 100%|██████████| 37/37 [00:07<00:00,  4.75it/s]\n",
      "[Epoch: 11/15, Phase: train]: 100%|██████████| 111/111 [00:40<00:00,  2.73it/s]\n",
      "[Epoch: 11/15, Phase: valid]: 100%|██████████| 37/37 [00:07<00:00,  5.03it/s]\n",
      "[Epoch: 12/15, Phase: train]: 100%|██████████| 111/111 [00:40<00:00,  2.76it/s]\n",
      "[Epoch: 12/15, Phase: valid]: 100%|██████████| 37/37 [00:07<00:00,  5.08it/s]\n",
      "[Epoch: 13/15, Phase: train]: 100%|██████████| 111/111 [00:40<00:00,  2.76it/s]\n",
      "[Epoch: 13/15, Phase: valid]: 100%|██████████| 37/37 [00:07<00:00,  5.07it/s]\n",
      "[Epoch: 14/15, Phase: train]: 100%|██████████| 111/111 [00:40<00:00,  2.75it/s]\n",
      "[Epoch: 14/15, Phase: valid]: 100%|██████████| 37/37 [00:06<00:00,  5.61it/s]\n",
      "[Epoch: 15/15, Phase: train]: 100%|██████████| 111/111 [00:37<00:00,  2.97it/s]\n",
      "[Epoch: 15/15, Phase: valid]: 100%|██████████| 37/37 [00:06<00:00,  5.91it/s]\n"
     ]
    },
    {
     "data": {
      "image/png": "[encoded data removed]",
      "text/plain": [
       "<Figure size 800x300 with 1 Axes>"
      ]
     },
     "metadata": {},
     "output_type": "display_data"
    },
    {
     "name": "stdout",
     "output_type": "stream",
     "text": [
      "fold#03's best epoch: E014\n"
     ]
    },
    {
     "name": "stderr",
     "output_type": "stream",
     "text": [
      "100%|██████████| 1178/1178 [00:24<00:00, 48.11it/s]"
     ]
    },
    {
     "name": "stdout",
     "output_type": "stream",
     "text": [
      "bowel_injury' ROC: 0.8842147588729858\n",
      "extravasation_injury' ROC: 0.7065820693969727\n",
      "kidney_injury' ROC: 0.6828307509422302\n",
      "liver_injury' ROC: 0.7779876589775085\n",
      "spleen_injury' ROC: 0.6966074109077454\n"
     ]
    },
    {
     "name": "stderr",
     "output_type": "stream",
     "text": [
      "\n"
     ]
    }
   ],
   "source": [
    "scores, rocs = [], []\n",
    "\n",
    "for k, (train_indices, valid_indices) in enumerate(data_spliter.split(dataset.labels, dataset.labels)):\n",
    "    save_sub_dir = save_dir / f\"fold#{k:02}\"\n",
    "    save_sub_dir.mkdir(parents=True, exist_ok=True)\n",
    "\n",
    "    # ----- Train ----- #\n",
    "    model = MultiAbdominalTraumaClassifier(\n",
    "        backbone=backbone(weights=b_weights)\n",
    "    )\n",
    "    criterions = {\n",
    "        classname: nn.CrossEntropyLoss(weight=weights.to(device))\n",
    "        for classname, weights in class_weights.items()\n",
    "    }\n",
    "\n",
    "    optimizer = optim.AdamW(model.parameters(), lr=learning_rate)\n",
    "\n",
    "    exp_lr_scheduler = lr_scheduler.StepLR(\n",
    "        optimizer,\n",
    "        step_size=step_size,\n",
    "        gamma=gamma\n",
    "    )\n",
    "\n",
    "    train_dataset = Subset(dataset, train_indices)\n",
    "    train_dataset.dataset.transform = train_transform\n",
    "    valid_dataset = Subset(dataset, valid_indices)\n",
    "    valid_dataset.dataset.transform = valid_transform\n",
    "\n",
    "    dataloaders = make_datalodaers(\n",
    "        train_dataset,\n",
    "        valid_dataset,\n",
    "        batch_size=batch_size\n",
    "    )\n",
    "\n",
    "    history = model.fit(\n",
    "        dataloaders,\n",
    "        criterions,\n",
    "        optimizer,\n",
    "        exp_lr_scheduler,\n",
    "        num_epoch,\n",
    "        save_dir=save_sub_dir,\n",
    "        criterions_weight=criterions_weights\n",
    "    )\n",
    "\n",
    "    train_history = pd.DataFrame(history).T\n",
    "    train_history.to_csv(save_sub_dir / \"history.csv\")\n",
    "\n",
    "    fig, ax = plt.subplots(1, 1, figsize=(8, 3))\n",
    "    ax.set_title(f\"Fold#{k:02}: Train Losses\")\n",
    "    ax.set_xlabel(\"Epoch\")\n",
    "    train_history.loc[:, [\"train_average_loss\",\n",
    "                        \"valid_average_loss\"]].plot(ax=ax)\n",
    "    ax.grid()\n",
    "\n",
    "    plt.close()\n",
    "    display(fig)\n",
    "\n",
    "    # ----- Scoring with Validation Data -----#\n",
    "    weighted_cols = [\n",
    "        \"valid_extravasation_injury\",\n",
    "        \"valid_kidney_injury\",\n",
    "        \"valid_liver_injury\",\n",
    "        \"valid_spleen_injury\"\n",
    "    ]\n",
    "\n",
    "    train_history[weighted_cols] = train_history[weighted_cols] * 3\n",
    "    best_epoch = train_history.loc[:, [\n",
    "        \"valid_bowel_injury\",\n",
    "        \"valid_extravasation_injury\",\n",
    "        \"valid_kidney_injury\",\n",
    "        \"valid_liver_injury\",\n",
    "        \"valid_spleen_injury\",\n",
    "    ]\n",
    "    ].mean(axis=1).idxmin()\n",
    "\n",
    "    model.load_model_state(save_sub_dir / f\"E{best_epoch:03}.pt\", device)\n",
    "    print(f\"fold#{k:02}'s best epoch: E{best_epoch:03}\")\n",
    "\n",
    "    test_patient_series = patient_series.copy().iloc[\n",
    "        valid_indices, :].reset_index(drop=True)\n",
    "\n",
    "    test_patient_info = patient_info.copy().set_index(\"patient_id\").loc[\n",
    "        test_patient_series.patient_id.unique(), :\n",
    "    ].reset_index()\n",
    "\n",
    "    test_dataset = AbdominalTraumaDataset(\n",
    "        test_patient_info,\n",
    "        test_patient_series,\n",
    "        train_image_root_dir,\n",
    "        img_extension=\".png\",\n",
    "        transform=nn.Sequential(\n",
    "            transforms.Resize((224, 224), antialias=True),\n",
    "            transforms.ConvertDtype(),\n",
    "            transforms.Normalize([0.0, 0.0, 0.0], [1.0, 1.0, 1.0])\n",
    "        ),\n",
    "        has_pseudo3D_img=True,\n",
    "        stride=stride\n",
    "    )\n",
    "\n",
    "    pred_test_series = model.predict(test_dataset)\n",
    "    y_pred = make_submission_file(\n",
    "        pred_test_series, test_patient_series.reset_index(drop=True)\n",
    "    )\n",
    "    y_true = add_sample_weights(test_patient_info)\n",
    "\n",
    "    scores.append(score(y_true.copy(), y_pred.copy(), \"patient_id\"))\n",
    "    rocs.append(\n",
    "        calc_multiclasses_roc(\n",
    "            torch.tensor(pred_test_series),\n",
    "            test_dataset.labels,\n",
    "            {\n",
    "                \"bowel_injury\": 2,\n",
    "                \"extravasation_injury\": 2,\n",
    "                \"kidney_injury\": 3,\n",
    "                \"liver_injury\": 3,\n",
    "                \"spleen_injury\": 3,\n",
    "            },\n",
    "            True\n",
    "        )\n",
    "    )\n",
    "    del model\n"
   ]
  },
  {
   "cell_type": "code",
   "execution_count": 10,
   "metadata": {},
   "outputs": [
    {
     "data": {
      "text/html": [
       "<div>\n",
       "<style scoped>\n",
       "    .dataframe tbody tr th:only-of-type {\n",
       "        vertical-align: middle;\n",
       "    }\n",
       "\n",
       "    .dataframe tbody tr th {\n",
       "        vertical-align: top;\n",
       "    }\n",
       "\n",
       "    .dataframe thead th {\n",
       "        text-align: right;\n",
       "    }\n",
       "</style>\n",
       "<table border=\"1\" class=\"dataframe\">\n",
       "  <thead>\n",
       "    <tr style=\"text-align: right;\">\n",
       "      <th></th>\n",
       "      <th>bowel</th>\n",
       "      <th>extravasation</th>\n",
       "      <th>kidney</th>\n",
       "      <th>liver</th>\n",
       "      <th>spleen</th>\n",
       "      <th>any</th>\n",
       "      <th>Average</th>\n",
       "    </tr>\n",
       "  </thead>\n",
       "  <tbody>\n",
       "    <tr>\n",
       "      <th>0</th>\n",
       "      <td>0.214535</td>\n",
       "      <td>0.718121</td>\n",
       "      <td>0.594566</td>\n",
       "      <td>0.930191</td>\n",
       "      <td>1.058933</td>\n",
       "      <td>0.766511</td>\n",
       "      <td>0.713810</td>\n",
       "    </tr>\n",
       "    <tr>\n",
       "      <th>1</th>\n",
       "      <td>0.259720</td>\n",
       "      <td>0.629265</td>\n",
       "      <td>0.574910</td>\n",
       "      <td>0.909998</td>\n",
       "      <td>1.126010</td>\n",
       "      <td>0.666579</td>\n",
       "      <td>0.694413</td>\n",
       "    </tr>\n",
       "    <tr>\n",
       "      <th>2</th>\n",
       "      <td>0.235553</td>\n",
       "      <td>0.770140</td>\n",
       "      <td>0.550304</td>\n",
       "      <td>0.815959</td>\n",
       "      <td>1.061868</td>\n",
       "      <td>0.681101</td>\n",
       "      <td>0.685821</td>\n",
       "    </tr>\n",
       "    <tr>\n",
       "      <th>3</th>\n",
       "      <td>0.139537</td>\n",
       "      <td>0.779168</td>\n",
       "      <td>0.543769</td>\n",
       "      <td>0.680744</td>\n",
       "      <td>0.952740</td>\n",
       "      <td>0.949793</td>\n",
       "      <td>0.674292</td>\n",
       "    </tr>\n",
       "    <tr>\n",
       "      <th>CV-Average</th>\n",
       "      <td>0.212336</td>\n",
       "      <td>0.724173</td>\n",
       "      <td>0.565887</td>\n",
       "      <td>0.834223</td>\n",
       "      <td>1.049888</td>\n",
       "      <td>0.765996</td>\n",
       "      <td>0.692084</td>\n",
       "    </tr>\n",
       "  </tbody>\n",
       "</table>\n",
       "</div>"
      ],
      "text/plain": [
       "               bowel  extravasation    kidney     liver    spleen       any  \\\n",
       "0           0.214535       0.718121  0.594566  0.930191  1.058933  0.766511   \n",
       "1           0.259720       0.629265  0.574910  0.909998  1.126010  0.666579   \n",
       "2           0.235553       0.770140  0.550304  0.815959  1.061868  0.681101   \n",
       "3           0.139537       0.779168  0.543769  0.680744  0.952740  0.949793   \n",
       "CV-Average  0.212336       0.724173  0.565887  0.834223  1.049888  0.765996   \n",
       "\n",
       "             Average  \n",
       "0           0.713810  \n",
       "1           0.694413  \n",
       "2           0.685821  \n",
       "3           0.674292  \n",
       "CV-Average  0.692084  "
      ]
     },
     "metadata": {},
     "output_type": "display_data"
    }
   ],
   "source": [
    "scores = pd.DataFrame(\n",
    "    scores,\n",
    "    columns=[\"bowel\", \"extravasation\", \"kidney\", \"liver\", \"spleen\", \"any\"]\n",
    ")\n",
    "scores[\"Average\"] = scores.mean(axis=1)\n",
    "scores.loc[\"CV-Average\"] = scores.mean(axis=0)\n",
    "display(scores)\n",
    "scores.to_csv(save_dir / \"scores.csv\")\n"
   ]
  },
  {
   "cell_type": "code",
   "execution_count": 11,
   "metadata": {},
   "outputs": [
    {
     "data": {
      "text/html": [
       "<div>\n",
       "<style scoped>\n",
       "    .dataframe tbody tr th:only-of-type {\n",
       "        vertical-align: middle;\n",
       "    }\n",
       "\n",
       "    .dataframe tbody tr th {\n",
       "        vertical-align: top;\n",
       "    }\n",
       "\n",
       "    .dataframe thead th {\n",
       "        text-align: right;\n",
       "    }\n",
       "</style>\n",
       "<table border=\"1\" class=\"dataframe\">\n",
       "  <thead>\n",
       "    <tr style=\"text-align: right;\">\n",
       "      <th></th>\n",
       "      <th>bowel_injury</th>\n",
       "      <th>extravasation_injury</th>\n",
       "      <th>kidney_injury</th>\n",
       "      <th>liver_injury</th>\n",
       "      <th>spleen_injury</th>\n",
       "    </tr>\n",
       "  </thead>\n",
       "  <tbody>\n",
       "    <tr>\n",
       "      <th>0</th>\n",
       "      <td>0.865201</td>\n",
       "      <td>0.725414</td>\n",
       "      <td>0.737289</td>\n",
       "      <td>0.766688</td>\n",
       "      <td>0.721306</td>\n",
       "    </tr>\n",
       "    <tr>\n",
       "      <th>1</th>\n",
       "      <td>0.769932</td>\n",
       "      <td>0.771085</td>\n",
       "      <td>0.720015</td>\n",
       "      <td>0.706840</td>\n",
       "      <td>0.734113</td>\n",
       "    </tr>\n",
       "    <tr>\n",
       "      <th>2</th>\n",
       "      <td>0.802384</td>\n",
       "      <td>0.644461</td>\n",
       "      <td>0.734210</td>\n",
       "      <td>0.766425</td>\n",
       "      <td>0.727749</td>\n",
       "    </tr>\n",
       "    <tr>\n",
       "      <th>3</th>\n",
       "      <td>0.884215</td>\n",
       "      <td>0.706582</td>\n",
       "      <td>0.682831</td>\n",
       "      <td>0.777988</td>\n",
       "      <td>0.696607</td>\n",
       "    </tr>\n",
       "  </tbody>\n",
       "</table>\n",
       "</div>"
      ],
      "text/plain": [
       "   bowel_injury  extravasation_injury  kidney_injury  liver_injury  \\\n",
       "0      0.865201              0.725414       0.737289      0.766688   \n",
       "1      0.769932              0.771085       0.720015      0.706840   \n",
       "2      0.802384              0.644461       0.734210      0.766425   \n",
       "3      0.884215              0.706582       0.682831      0.777988   \n",
       "\n",
       "   spleen_injury  \n",
       "0       0.721306  \n",
       "1       0.734113  \n",
       "2       0.727749  \n",
       "3       0.696607  "
      ]
     },
     "metadata": {},
     "output_type": "display_data"
    }
   ],
   "source": [
    "rocs = pd.DataFrame(\n",
    "    rocs,\n",
    "    columns=[\n",
    "        \"bowel_injury\",\n",
    "        \"extravasation_injury\",\n",
    "        \"kidney_injury\",\n",
    "        \"liver_injury\",\n",
    "        \"spleen_injury\"\n",
    "    ]\n",
    ")\n",
    "display(rocs)\n",
    "rocs.to_csv(save_dir / \"AUROC.csv\")\n"
   ]
  }
 ],
 "metadata": {
  "kernelspec": {
   "display_name": "data-analysis310",
   "language": "python",
   "name": "python3"
  },
  "language_info": {
   "codemirror_mode": {
    "name": "ipython",
    "version": 3
   },
   "file_extension": ".py",
   "mimetype": "text/x-python",
   "name": "python",
   "nbconvert_exporter": "python",
   "pygments_lexer": "ipython3",
   "version": "3.10.11"
  }
 },
 "nbformat": 4,
 "nbformat_minor": 2
}
